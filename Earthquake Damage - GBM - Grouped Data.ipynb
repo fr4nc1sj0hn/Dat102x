{
 "cells": [
  {
   "cell_type": "code",
   "execution_count": 45,
   "metadata": {},
   "outputs": [],
   "source": [
    "import pandas as pd\n",
    "import numpy as np\n",
    "from sklearn.ensemble import GradientBoostingClassifier, AdaBoostClassifier  #GBM algorithm\n",
    "from sklearn import cross_validation, metrics   #Additional scklearn functions\n",
    "from sklearn.grid_search import GridSearchCV   #Perforing grid search\n",
    "from sklearn.utils import resample\n",
    "from pandas_ml import ConfusionMatrix\n",
    "\n",
    "import matplotlib.pylab as plt\n",
    "#%matplotlib inline\n",
    "from matplotlib.pylab import rcParams\n",
    "rcParams['figure.figsize'] = 12, 4\n",
    "\n",
    "def Normalize(df):\n",
    "    df_Norm = (df - df.mean())/df.std()\n",
    "    return df_Norm\n",
    "\n",
    "def AgeGroup(row):\n",
    "    if row <= 5:\n",
    "        return \"0 to 5\"\n",
    "    if 5 < row <= 10:\n",
    "        return \"5 to 10\"\n",
    "    if 10 < row <= 15:\n",
    "        return \"10 to 15\"\n",
    "    if 15 < row <= 20:\n",
    "        return \"15 to 20\"\n",
    "    if 20 < row <= 25:\n",
    "        return \"20 to 25\"\n",
    "    if 25 < row <= 30:\n",
    "        return \"25 to 30\"\n",
    "    if 30 < row <= 40:\n",
    "        return \"30 to 40\"\n",
    "    else:\n",
    "        return \"> 40\"\n",
    "    \n",
    "def HeightGroup(row):\n",
    "    if row <= 3:\n",
    "        return \"0 to 3\"\n",
    "    if 3 < row <= 4:\n",
    "        return \"3 to 4\"\n",
    "    if 4 < row <= 5:\n",
    "        return \"4 to 5\"\n",
    "    if 5 < row <= 6:\n",
    "        return \"5 to 6\"\n",
    "    if 6 < row <= 8:\n",
    "        return \"6 to 8\"\n",
    "    else:\n",
    "        return \"> 8\"\n",
    "\n",
    "def modelfit(alg, dtrain, predictors, performCV=True, printFeatureImportance=True, cv_folds=5):\n",
    "    #Fit the algorithm on the data\n",
    "    alg.fit(dtrain[predictors], dtrain[\"damage_grade\"])\n",
    "        \n",
    "    #Predict training set:\n",
    "    dtrain_predictions = alg.predict(dtrain[predictors])\n",
    "    dtrain_predprob = alg.predict_proba(dtrain[predictors])[:,1]\n",
    "    \n",
    "    confusion_matrix = ConfusionMatrix(dtrain['damage_grade'].values, dtrain_predictions)\n",
    "    \n",
    "    #Perform cross-validation:\n",
    "    if performCV:\n",
    "        cv_score = cross_validation.cross_val_score(alg, dtrain[predictors], dtrain['damage_grade'], cv=cv_folds, scoring='f1_micro')\n",
    "    \n",
    "    #Print model report:\n",
    "    print(\"\\nModel Report\")\n",
    "    print( \"Accuracy : %.4g\" % metrics.accuracy_score(dtrain['damage_grade'].values, dtrain_predictions))\n",
    "    \n",
    "    print( \"Micro F1 : %.4g\" % metrics.f1_score(dtrain['damage_grade'].values, dtrain_predictions,average='micro'))\n",
    "    print (\"Confusion Matrix\")\n",
    "    print(confusion_matrix)\n",
    "    \n",
    "    if performCV:\n",
    "        print(\"CV Score : Mean - %.7g | Std - %.7g | Min - %.7g | Max - %.7g\" % (np.mean(cv_score),np.std(cv_score),np.min(cv_score),np.max(cv_score)))\n",
    "        \n",
    "    #Print Feature Importance:\n",
    "    if printFeatureImportance:\n",
    "        feat_imp = pd.Series(alg.feature_importances_, predictors).sort_values(ascending=False)\n",
    "        feat_imp.plot(kind='bar', title='Feature Importances')\n",
    "        plt.ylabel('Feature Importance Score')\n",
    "    plt.show()\n",
    "def Balance(df,sample_size):\n",
    "    df_damage_1 = df[df[\"damage_grade\"] == 1]\n",
    "    df_damage_2 = df[df[\"damage_grade\"] == 2]\n",
    "    df_damage_3 = df[df[\"damage_grade\"] == 3]\n",
    "\n",
    "    df_minority_upsampled_1 = resample(df_damage_1, \n",
    "                                     replace=True,     # sample with replacement\n",
    "                                     n_samples=sample_size,    # to match majority class\n",
    "                                     random_state=123) # reproducible results\n",
    "    df_minority_upsampled_2 = resample(df_damage_2, \n",
    "                                     replace=True,     # sample with replacement\n",
    "                                     n_samples=sample_size,    # to match majority class\n",
    "                                     random_state=123) # reproducible results\n",
    "\n",
    "    df_minority_upsampled_3 = resample(df_damage_3, \n",
    "                                     replace=True,     # sample with replacement\n",
    "                                     n_samples=sample_size,    # to match majority class\n",
    "                                     random_state=123) # reproducible results\n",
    "\n",
    "    # Combine majority class with upsampled minority class\n",
    "    df_upsampled = pd.concat([df_minority_upsampled_1, df_minority_upsampled_2,df_minority_upsampled_3])\n",
    "    return df_upsampled"
   ]
  },
  {
   "cell_type": "code",
   "execution_count": 20,
   "metadata": {},
   "outputs": [
    {
     "data": {
      "image/png": "[encoded data removed]",
      "text/plain": [
       "<matplotlib.figure.Figure at 0xde92908>"
      ]
     },
     "metadata": {},
     "output_type": "display_data"
    }
   ],
   "source": [
    "df = pd.read_csv(\"C:/DAT102X Microsoft Professional Capstone  Data Science/Data/Training_values.csv\")\n",
    "damages = pd.read_csv(\"C:/DAT102X Microsoft Professional Capstone  Data Science/Data/Training_labels.csv\")\n",
    "\n",
    "joined = df.set_index(\"building_id\").join(damages.set_index(\"building_id\"))\n",
    "\n",
    "\n",
    "#joined = joined[joined[\"age\"] < 100]\n",
    "#joined = joined[joined[\"height\"] < 15]\n",
    "#joined = joined[joined[\"area\"] < 200]\n",
    "joined[\"age_group\"] = joined[\"age\"].apply(lambda x: AgeGroup(x) )\n",
    "joined[\"height_group\"] = joined[\"height\"].apply(lambda x: HeightGroup(x) )\n",
    "\n",
    "dfH_Norm = Normalize(pd.DataFrame(joined[\"height\"]))\n",
    "dfArea_Norm = Normalize(pd.DataFrame(joined[\"area\"]))\n",
    "dfAge_Norm = Normalize(pd.DataFrame(joined[\"age\"]))\n",
    "\n",
    "\n",
    "joined[\"height_n\"] = dfH_Norm[\"height\"]\n",
    "joined[\"area_n\"] = dfArea_Norm[\"area\"]\n",
    "joined[\"age_n\"] = dfAge_Norm[\"age\"]\n",
    "\n",
    "\n",
    "columns = [\n",
    "    \"age\",\n",
    "    \"height\",\n",
    "    \"area\",\n",
    "    \"age_n\",\n",
    "    #\"height_n\",\n",
    "    #\"age_group\",\n",
    "    \"height_group\",\n",
    "    #\"area_n\",\n",
    "    \"count_families\",\n",
    "    \"count_floors_pre_eq\",\n",
    "    #\"foundation_type\",\n",
    "    #\"ground_floor_type\",\n",
    "    \"legal_ownership_status\",\n",
    "    \"plan_configuration\",\n",
    "    \"has_secondary_use_other\",\n",
    "    \"has_secondary_use_agriculture\",\n",
    "    \"has_secondary_use_hotel\",\n",
    "    \"has_secondary_use_rental\",\n",
    "    \"has_secondary_use_health_post\",\n",
    "    \"has_secondary_use_gov_office\",\n",
    "    \"has_secondary_use_school\",\n",
    "    \"has_secondary_use_use_police\",\n",
    "    \"has_secondary_use_industry\",\n",
    "    \"has_secondary_use_institution\",\n",
    "    #\"roof_type\",\n",
    "    #'has_superstructure_adobe_mud', \n",
    "    #'has_superstructure_mud_mortar_stone',\n",
    "    'has_superstructure_stone_flag',\n",
    "    'has_superstructure_cement_mortar_stone',\n",
    "    'has_superstructure_mud_mortar_brick',\n",
    "    'has_superstructure_cement_mortar_brick', \n",
    "    #'has_superstructure_timber',\n",
    "    'has_superstructure_bamboo', \n",
    "    'has_superstructure_rc_non_engineered',\n",
    "    'has_superstructure_rc_engineered', \n",
    "    'has_superstructure_other'\n",
    "]\n",
    "\n",
    "joined.drop(columns,inplace=True,axis = 1)\n",
    "\n",
    "joined.reset_index(inplace = True)\n",
    "\n",
    "joined = pd.get_dummies(joined)\n",
    "\n",
    "joined[\"damage_grade\"].hist()\n",
    "plt.show()"
   ]
  },
  {
   "cell_type": "code",
   "execution_count": 39,
   "metadata": {},
   "outputs": [
    {
     "name": "stdout",
     "output_type": "stream",
     "text": [
      "\n",
      "Upsampling 2000\n",
      "-----------------------\n",
      "\n",
      "Model Report\n",
      "Accuracy : 0.7315\n",
      "Micro F1 : 0.7315\n",
      "CV Score : Mean - 0.6823333 | Std - 0.01856221 | Min - 0.6575 | Max - 0.7125\n",
      "\n",
      "Upsampling 3500\n",
      "-----------------------\n",
      "\n",
      "Model Report\n",
      "Accuracy : 0.7108\n",
      "Micro F1 : 0.7108\n",
      "CV Score : Mean - 0.6866667 | Std - 0.01339103 | Min - 0.6695238 | Max - 0.7042857\n",
      "\n",
      "Upsampling 5000\n",
      "-----------------------\n",
      "\n",
      "Model Report\n",
      "Accuracy : 0.7064\n",
      "Micro F1 : 0.7064\n",
      "CV Score : Mean - 0.6855333 | Std - 0.009602315 | Min - 0.6706667 | Max - 0.701\n",
      "\n",
      "Original Data\n",
      "-----------------------\n",
      "\n",
      "Model Report\n",
      "Accuracy : 0.6974\n",
      "Micro F1 : 0.6974\n",
      "CV Score : Mean - 0.6674028 | Std - 0.01239362 | Min - 0.646 | Max - 0.6833417\n"
     ]
    }
   ],
   "source": [
    "#Perform Upsampling\n",
    "train1 = Balance(joined,2000)\n",
    "train2 = Balance(joined,3500)\n",
    "train3 = Balance(joined,5000)\n",
    "\n",
    "target = 'damage_grade'\n",
    "IDcol = 'building_id'\n",
    "predictors = [x for x in joined.columns if x not in [target, IDcol]]\n",
    "model = GradientBoostingClassifier(random_state=10)\n",
    "\n",
    "print(\"\\nUpsampling 2000\")\n",
    "print(\"-----------------------\")\n",
    "modelfit(model, train1, predictors)\n",
    "print(\"\\nUpsampling 3500\")\n",
    "print(\"-----------------------\")\n",
    "modelfit(model, train2, predictors)\n",
    "print(\"\\nUpsampling 5000\")\n",
    "print(\"-----------------------\")\n",
    "modelfit(model, train3, predictors)\n",
    "print(\"\\nOriginal Data\")\n",
    "print(\"-----------------------\")\n",
    "modelfit(model, joined, predictors)"
   ]
  },
  {
   "cell_type": "code",
   "execution_count": 24,
   "metadata": {},
   "outputs": [
    {
     "data": {
      "text/plain": [
       "([mean: 0.78650, std: 0.01622, params: {'n_estimators': 2000},\n",
       "  mean: 0.78433, std: 0.01681, params: {'n_estimators': 2500},\n",
       "  mean: 0.78500, std: 0.01782, params: {'n_estimators': 3000}],\n",
       " {'n_estimators': 2000},\n",
       " 0.7865)"
      ]
     },
     "execution_count": 24,
     "metadata": {},
     "output_type": "execute_result"
    }
   ],
   "source": [
    "predictors = [x for x in joined.columns if x not in [target, IDcol]]\n",
    "param_test1 = {'n_estimators': [2000,2500,3000]}\n",
    "gsearch1 = GridSearchCV(estimator = GradientBoostingClassifier(learning_rate=0.1, min_samples_split=20,min_samples_leaf=20,max_depth=8,max_features='sqrt',subsample=0.8,random_state=10), \n",
    "param_grid = param_test1, scoring='f1_micro',n_jobs=4,iid=False, cv=5)\n",
    "gsearch1.fit(train1[predictors],train1[target])\n",
    "gsearch1.grid_scores_, gsearch1.best_params_, gsearch1.best_score_"
   ]
  },
  {
   "cell_type": "code",
   "execution_count": 31,
   "metadata": {},
   "outputs": [
    {
     "data": {
      "text/plain": [
       "([mean: 0.78950, std: 0.01455, params: {'max_depth': 12, 'min_samples_split': 200},\n",
       "  mean: 0.78583, std: 0.01323, params: {'max_depth': 16, 'min_samples_split': 200},\n",
       "  mean: 0.78750, std: 0.01090, params: {'max_depth': 24, 'min_samples_split': 200}],\n",
       " {'max_depth': 12, 'min_samples_split': 200},\n",
       " 0.7895)"
      ]
     },
     "execution_count": 31,
     "metadata": {},
     "output_type": "execute_result"
    }
   ],
   "source": [
    "param_test2 = {\n",
    "    #'max_depth':[int(x) for x in np.linspace(start = 10, stop = 15, num = 5)], \n",
    "    #'min_samples_split':[int(x) for x in np.linspace(start = 10, stop = 20, num = 5)]\n",
    "    'max_depth':[12,16,24], \n",
    "    'min_samples_split':[200]\n",
    "}\n",
    "gsearch2 = GridSearchCV(estimator = GradientBoostingClassifier(learning_rate=0.1, n_estimators=2000, max_features='sqrt', subsample=0.8, random_state=10), \n",
    "param_grid = param_test2, scoring='f1_micro',n_jobs=4,iid=False, cv=5)\n",
    "gsearch2.fit(train1[predictors],train1[target])\n",
    "gsearch2.grid_scores_, gsearch2.best_params_, gsearch2.best_score_"
   ]
  },
  {
   "cell_type": "code",
   "execution_count": 33,
   "metadata": {},
   "outputs": [
    {
     "data": {
      "text/plain": [
       "([mean: 0.84971, std: 0.00901, params: {'min_samples_leaf': 100, 'min_samples_split': 200},\n",
       "  mean: 0.84924, std: 0.00501, params: {'min_samples_leaf': 150, 'min_samples_split': 200},\n",
       "  mean: 0.83848, std: 0.00632, params: {'min_samples_leaf': 200, 'min_samples_split': 200}],\n",
       " {'min_samples_leaf': 100, 'min_samples_split': 200},\n",
       " 0.8497142857142856)"
      ]
     },
     "execution_count": 33,
     "metadata": {},
     "output_type": "execute_result"
    }
   ],
   "source": [
    "param_test3 = {\n",
    "    'min_samples_split':[200], \n",
    "    'min_samples_leaf':[100,150,200]\n",
    "}\n",
    "gsearch3 = GridSearchCV(estimator = GradientBoostingClassifier(learning_rate=0.1, n_estimators=2000,max_depth=12,max_features='sqrt', subsample=0.8, random_state=10), \n",
    "param_grid = param_test3, scoring='f1_micro',n_jobs=4,iid=False, cv=5)\n",
    "gsearch3.fit(train1[predictors],train1[target])\n",
    "gsearch3.grid_scores_, gsearch3.best_params_, gsearch3.best_score_"
   ]
  },
  {
   "cell_type": "code",
   "execution_count": 41,
   "metadata": {},
   "outputs": [
    {
     "data": {
      "text/plain": [
       "GradientBoostingClassifier(criterion='friedman_mse', init=None,\n",
       "              learning_rate=0.1, loss='deviance', max_depth=12,\n",
       "              max_features='sqrt', max_leaf_nodes=None,\n",
       "              min_impurity_decrease=0.0, min_impurity_split=None,\n",
       "              min_samples_leaf=100, min_samples_split=200,\n",
       "              min_weight_fraction_leaf=0.0, n_estimators=2000,\n",
       "              presort='auto', random_state=10, subsample=0.8, verbose=0,\n",
       "              warm_start=False)"
      ]
     },
     "execution_count": 41,
     "metadata": {},
     "output_type": "execute_result"
    }
   ],
   "source": [
    "gsearch3.best_estimator_"
   ]
  },
  {
   "cell_type": "code",
   "execution_count": 46,
   "metadata": {},
   "outputs": [
    {
     "name": "stdout",
     "output_type": "stream",
     "text": [
      "\n",
      "Model Report\n",
      "Accuracy : 0.9997\n",
      "Micro F1 : 0.9997\n",
      "Confusion Matrix\n",
      "Predicted     1     2     3  __all__\n",
      "Actual                              \n",
      "1          3500     0     0     3500\n",
      "2             2  3498     0     3500\n",
      "3             0     1  3499     3500\n",
      "__all__    3502  3499  3499    10500\n",
      "CV Score : Mean - 0.8497143 | Std - 0.009007933 | Min - 0.8366667 | Max - 0.8638095\n"
     ]
    },
    {
     "data": {
      "image/png": "[encoded data removed]",
      "text/plain": [
       "<matplotlib.figure.Figure at 0xdfc8ac8>"
      ]
     },
     "metadata": {},
     "output_type": "display_data"
    }
   ],
   "source": [
    "\n",
    "modelfit(gsearch3.best_estimator_, train2, predictors)"
   ]
  },
  {
   "cell_type": "code",
   "execution_count": 47,
   "metadata": {},
   "outputs": [
    {
     "ename": "NameError",
     "evalue": "name 'confusion_matrix' is not defined",
     "output_type": "error",
     "traceback": [
      "\u001b[1;31m---------------------------------------------------------------------------\u001b[0m",
      "\u001b[1;31mNameError\u001b[0m                                 Traceback (most recent call last)",
      "\u001b[1;32m<ipython-input-47-541b5e3a4daf>\u001b[0m in \u001b[0;36m<module>\u001b[1;34m()\u001b[0m\n\u001b[1;32m----> 1\u001b[1;33m \u001b[0mconfusion_matrix\u001b[0m\u001b[1;33m\u001b[0m\u001b[0m\n\u001b[0m",
      "\u001b[1;31mNameError\u001b[0m: name 'confusion_matrix' is not defined"
     ]
    }
   ],
   "source": [
    "confusion_matrix"
   ]
  },
  {
   "cell_type": "code",
   "execution_count": 37,
   "metadata": {},
   "outputs": [],
   "source": [
    "test_data = pd.read_csv(\"C:/DAT102X Microsoft Professional Capstone  Data Science/Data/Test_values.csv\")\n",
    "\n",
    "test_data[\"age_group\"] = test_data[\"age\"].apply(lambda x: AgeGroup(x) )\n",
    "test_data[\"height_group\"] = test_data[\"height\"].apply(lambda x: HeightGroup(x) )\n",
    "\n",
    "dfH_Norm = Normalize(pd.DataFrame(test_data[\"height\"]))\n",
    "dfArea_Norm = Normalize(pd.DataFrame(test_data[\"area\"]))\n",
    "dfAge_Norm = Normalize(pd.DataFrame(test_data[\"age\"]))\n",
    "\n",
    "\n",
    "test_data[\"height_n\"] = dfH_Norm[\"height\"]\n",
    "test_data[\"area_n\"] = dfArea_Norm[\"area\"]\n",
    "test_data[\"age_n\"] = dfAge_Norm[\"age\"]\n",
    "\n",
    "\n",
    "columns = [\n",
    "    \"building_id\",\n",
    "    \"ScoredLabels\",\n",
    "    \"age\",\n",
    "    \"height\",\n",
    "    \"area\",\n",
    "    \"age_n\",\n",
    "    #\"height_n\",\n",
    "    #\"age_group\",\n",
    "    \"height_group\",\n",
    "    #\"area_n\",\n",
    "    \"count_families\",\n",
    "    \"count_floors_pre_eq\",\n",
    "    #\"foundation_type\",\n",
    "    #\"ground_floor_type\",\n",
    "    \"legal_ownership_status\",\n",
    "    \"plan_configuration\",\n",
    "    \"has_secondary_use_other\",\n",
    "    \"has_secondary_use_agriculture\",\n",
    "    \"has_secondary_use_hotel\",\n",
    "    \"has_secondary_use_rental\",\n",
    "    \"has_secondary_use_health_post\",\n",
    "    \"has_secondary_use_gov_office\",\n",
    "    \"has_secondary_use_school\",\n",
    "    \"has_secondary_use_use_police\",\n",
    "    \"has_secondary_use_industry\",\n",
    "    \"has_secondary_use_institution\",\n",
    "    #\"roof_type\",\n",
    "    #'has_superstructure_adobe_mud', \n",
    "    #'has_superstructure_mud_mortar_stone',\n",
    "    'has_superstructure_stone_flag',\n",
    "    'has_superstructure_cement_mortar_stone',\n",
    "    'has_superstructure_mud_mortar_brick',\n",
    "    'has_superstructure_cement_mortar_brick', \n",
    "    #'has_superstructure_timber',\n",
    "    'has_superstructure_bamboo', \n",
    "    'has_superstructure_rc_non_engineered',\n",
    "    'has_superstructure_rc_engineered', \n",
    "    'has_superstructure_other'\n",
    "]\n",
    "x_test_data = test_data.drop(columns,axis = 1)\n",
    "\n",
    "x_test_data = pd.get_dummies(x_test_data)\n",
    "\n",
    "test_data_predictions = model.predict(x_test_data)\n",
    "\n",
    "df[\"damage_grade\"] = test_data_predictions\n",
    "df.to_csv(\"C:/DAT102X Microsoft Professional Capstone  Data Science/Data/Submission_20180415_02.csv\",index=False)"
   ]
  },
  {
   "cell_type": "code",
   "execution_count": null,
   "metadata": {},
   "outputs": [],
   "source": []
  }
 ],
 "metadata": {
  "kernelspec": {
   "display_name": "Python 3",
   "language": "python",
   "name": "python3"
  },
  "language_info": {
   "codemirror_mode": {
    "name": "ipython",
    "version": 3
   },
   "file_extension": ".py",
   "mimetype": "text/x-python",
   "name": "python",
   "nbconvert_exporter": "python",
   "pygments_lexer": "ipython3",
   "version": "3.6.2"
  }
 },
 "nbformat": 4,
 "nbformat_minor": 2
}
